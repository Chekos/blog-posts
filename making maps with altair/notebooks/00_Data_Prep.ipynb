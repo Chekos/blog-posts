{
 "cells": [
  {
   "cell_type": "markdown",
   "metadata": {},
   "source": [
    "# Data Preparation:\n",
    "\n",
    "#### Context\n",
    "We have a directory structure as such:"
   ]
  },
  {
   "cell_type": "code",
   "execution_count": 13,
   "metadata": {},
   "outputs": [],
   "source": [
    "from pathlib import Path\n",
    "from useful_funcs import tree "
   ]
  },
  {
   "cell_type": "code",
   "execution_count": 14,
   "metadata": {},
   "outputs": [
    {
     "name": "stdout",
     "output_type": "stream",
     "text": [
      "+ ..\n",
      "    + data\n",
      "        + final\n",
      "        + interim\n",
      "        + raw\n",
      "            + hidrografia.zip\n",
      "            + mexstates.zip\n",
      "    + docs\n",
      "    + figures\n",
      "        + final\n",
      "        + interim\n",
      "    + notebooks\n",
      "        + 00 Data Prep.ipynb\n",
      "        + useful_funcs.py\n",
      "    + README.md\n"
     ]
    }
   ],
   "source": [
    "parent_dir = Path(\"..\")\n",
    "\n",
    "tree(parent_dir)"
   ]
  },
  {
   "cell_type": "markdown",
   "metadata": {},
   "source": [
    "We have two `shape files`\n",
    "* `hidrografia.zip`: which contains hydrography information of Mexico. \n",
    "  - Source: [Instituto Nacional de Estadística y Geografía - INEGI](http://www.beta.inegi.org.mx/app/mapas/)\n",
    "* `mexstates.zip`: which contains the outlines of the 32 states that compose Mexico. \n",
    "  - Source: [ArcGIS](https://www.arcgis.com/home/item.html?id=ac9041c51b5c49c683fbfec61dc03ba8)"
   ]
  },
  {
   "cell_type": "markdown",
   "metadata": {},
   "source": [
    "The fist step is to unzip the files."
   ]
  },
  {
   "cell_type": "code",
   "execution_count": 15,
   "metadata": {},
   "outputs": [],
   "source": [
    "from zipfile import ZipFile"
   ]
  },
  {
   "cell_type": "code",
   "execution_count": 17,
   "metadata": {},
   "outputs": [],
   "source": [
    "interim_data_path = Path(\"../data/interim/\")\n",
    "raw_data_path = Path(\"../data/raw/\")"
   ]
  },
  {
   "cell_type": "code",
   "execution_count": 19,
   "metadata": {},
   "outputs": [],
   "source": [
    "for zippedfile in raw_data_path.glob(\"*.zip\"):\n",
    "    file = ZipFile(zippedfile)\n",
    "    file.extractall((interim_data_path / zippedfile.stem))"
   ]
  },
  {
   "cell_type": "markdown",
   "metadata": {},
   "source": [
    "For those unfamiliar with the `pathlib` module. We can concatenate filepaths and names using `/`. This is another example that may illustrate this better:\n",
    "\n",
    "*NOTE: for more on `pathlib` read [RealPython's article](https://realpython.com/python-pathlib/) on it."
   ]
  },
  {
   "cell_type": "code",
   "execution_count": 22,
   "metadata": {},
   "outputs": [
    {
     "name": "stdout",
     "output_type": "stream",
     "text": [
      "the file's .name is: {zippedfile.name}\n",
      "the file's .stem is: {zippedfile.stem}\n",
      "and we can concatenate paths like this Path / Path. the resulting path in this case is: \n",
      "\t ..\\data\\interim\\hidrografia\n",
      "===============\n",
      "the file's .name is: {zippedfile.name}\n",
      "the file's .stem is: {zippedfile.stem}\n",
      "and we can concatenate paths like this Path / Path. the resulting path in this case is: \n",
      "\t ..\\data\\interim\\mexstates\n",
      "===============\n"
     ]
    }
   ],
   "source": [
    "for zippedfile in raw_data_path.glob(\"*.zip\"):\n",
    "    # Path.glob() returns an iterator\n",
    "    # in this case of file Paths and each has attributes like .name, .stem, and others.\n",
    "    print(\"the file's .name is: {zippedfile.name}\")\n",
    "    print(\"the file's .stem is: {zippedfile.stem}\")\n",
    "    print(f\"and we can concatenate paths like this Path / Path. the resulting path in this case is: \\n\\t {interim_data_path / zippedfile.stem}\")\n",
    "    print(\"=\"*15)"
   ]
  },
  {
   "cell_type": "markdown",
   "metadata": {},
   "source": [
    "Now, because these `.zip` files come from different sources, they are bundled differently. "
   ]
  },
  {
   "cell_type": "code",
   "execution_count": 23,
   "metadata": {},
   "outputs": [
    {
     "name": "stdout",
     "output_type": "stream",
     "text": [
      "+ ..\\data\\interim\n",
      "    + hidrografia\n",
      "        + conjunto_de_datos\n",
      "            + red_hidrografica_250k.dbf\n",
      "            + red_hidrografica_250k.prj\n",
      "            + red_hidrografica_250k.sbn\n",
      "            + red_hidrografica_250k.sbx\n",
      "            + red_hidrografica_250k.shp\n",
      "            + red_hidrografica_250k.shp.xml\n",
      "            + red_hidrografica_250k.shx\n",
      "        + metadato\n",
      "            + Red_Hidrografica_Digital.html\n",
      "            + Red_Hidrografica_Digital.sgml\n",
      "            + Red_Hidrografica_Digital.txt\n",
      "            + Red_Hidrografica_Digital.xml\n",
      "            + ~$d_Hidrografica_Digital.txt\n",
      "    + mexstates\n",
      "        + mexstates.dbf\n",
      "        + mexstates.prj\n",
      "        + mexstates.sbn\n",
      "        + mexstates.sbx\n",
      "        + mexstates.shp\n",
      "        + mexstates.shp.xml\n",
      "        + mexstates.shx\n"
     ]
    }
   ],
   "source": [
    "tree(interim_data_path)"
   ]
  },
  {
   "cell_type": "markdown",
   "metadata": {},
   "source": [
    "***\n",
    "Now that we have extracted our data we can move on to our visualization work with `geopandas` and `altair`\n",
    "\n",
    "[01 Data Visualization notebook](01_Data_Visualization.ipynb)"
   ]
  }
 ],
 "metadata": {
  "kernelspec": {
   "display_name": "Python 3",
   "language": "python",
   "name": "python3"
  },
  "language_info": {
   "codemirror_mode": {
    "name": "ipython",
    "version": 3
   },
   "file_extension": ".py",
   "mimetype": "text/x-python",
   "name": "python",
   "nbconvert_exporter": "python",
   "pygments_lexer": "ipython3",
   "version": "3.7.1"
  }
 },
 "nbformat": 4,
 "nbformat_minor": 2
}
